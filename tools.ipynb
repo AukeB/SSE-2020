{
 "cells": [
  {
   "cell_type": "code",
   "execution_count": 1,
   "metadata": {},
   "outputs": [],
   "source": [
    "# Imports\n",
    "import numpy as np\n",
    "import matplotlib.pyplot as plt"
   ]
  },
  {
   "cell_type": "code",
   "execution_count": 2,
   "metadata": {},
   "outputs": [],
   "source": [
    "# Constants, everything in SI-units.\n",
    "G = 6.67408e-11\n",
    "c = 2.99792458e8\n",
    "h = 6.62607004e-34\n",
    "k_b = 1.38064852e-23\n",
    "a = 8 * np.pi**5 * k_b**4 / (15 * h**3 * c**3)\n",
    "m_u = 1.66053904e-27\n",
    "R = k_b / m_u"
   ]
  },
  {
   "cell_type": "code",
   "execution_count": 3,
   "metadata": {},
   "outputs": [],
   "source": [
    "# Solar constants, SI-units.\n",
    "R_sun = 6.96340e8\n",
    "M_sun = 1.989e30\n",
    "L_sun = 3.828e26\n",
    "T_eff_sun = 5.778e3"
   ]
  },
  {
   "cell_type": "code",
   "execution_count": 4,
   "metadata": {},
   "outputs": [],
   "source": [
    "# Unit transformation functions.\n",
    "def density_cgs2SI(x):\n",
    "    return x * 10**3\n",
    "\n",
    "def opacity_cgs2SI(x):\n",
    "    return x * 10**-1"
   ]
  }
 ],
 "metadata": {
  "kernelspec": {
   "display_name": "Python 3",
   "language": "python",
   "name": "python3"
  },
  "language_info": {
   "codemirror_mode": {
    "name": "ipython",
    "version": 3
   },
   "file_extension": ".py",
   "mimetype": "text/x-python",
   "name": "python",
   "nbconvert_exporter": "python",
   "pygments_lexer": "ipython3",
   "version": "3.6.5"
  }
 },
 "nbformat": 4,
 "nbformat_minor": 2
}
