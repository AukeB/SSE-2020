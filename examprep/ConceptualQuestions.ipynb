{
 "cells": [
  {
   "cell_type": "markdown",
   "metadata": {},
   "source": [
    "# Conceptual questions from the classes\n",
    "### Important to understand, unlikely to be on the exam."
   ]
  },
  {
   "cell_type": "markdown",
   "metadata": {},
   "source": [
    "### Class 5."
   ]
  },
  {
   "cell_type": "markdown",
   "metadata": {},
   "source": [
    "**Q**: Why is understanding of nuclear reactions important? Give 2 reasons."
   ]
  },
  {
   "cell_type": "markdown",
   "metadata": {},
   "source": [
    "**A**: (1) Nuclear reactions produce the energy within a star which keeps them in TE and which is why we see them shine. Stars are radiating away energy and to keep them into balance, nuclear reactions produce almost exactly the same amount of energy that is radiating away from the star. They determine for how long the star is able to sustain its liminosity. (2) Nuclear reactions are responsible for the conversion of elements within stars, for example, from H to He, so nuclear reactions make the existence of heavier elements than H happen. From a larger perspective, stars are slowly converting the universe from a state where there were no metals, to a state with less and less H and a higher overall metallicity."
   ]
  },
  {
   "cell_type": "markdown",
   "metadata": {},
   "source": [
    "**Q**: Why is understanding of convection important? Give 2 reasons."
   ]
  },
  {
   "cell_type": "markdown",
   "metadata": {},
   "source": [
    "**A**: (1) Convection allows the star to transport energy from within a star to the surface, for example, at lower temperature, when radiative transport is not able to transport all the energy, because of the low opacity. Convection is a very efficient way of transporting energy. (2) If the core is convective, convection is able to 'mix' the star, in very short timescales (weeks to months), by transporting heavier elements from the core to the surface, we are even able to observe H from high up to the core, so more fuel is present in the core, and the H-burning phase can prolong longer."
   ]
  },
  {
   "cell_type": "markdown",
   "metadata": {},
   "source": [
    "### Class 6."
   ]
  },
  {
   "cell_type": "markdown",
   "metadata": {},
   "source": [
    "**Q**: Why do we need such high temperatures for thermonuclear reactions to happen?"
   ]
  },
  {
   "cell_type": "markdown",
   "metadata": {},
   "source": [
    "**A**: Because of the Coulomb barrier. Two nuclei experience a coulomb potential that scales with the product of their charges and inversely with their distance. Classically, nuclear reactions are not able to happen at temperatures of stellar cores. However, if quantum mechanics is taken into consideration, there is a finite chance  particle breaks the repulsive Coulomb barrier (known as the tunnel effect), which scales steeply with the energy and decreases with the product of the charges. So, at low $T$, only the lightest nuclei will react and heavier nuclei require higher $T$, and therefore higher energies to have a compariable penetration probability."
   ]
  },
  {
   "cell_type": "markdown",
   "metadata": {},
   "source": [
    "**Q**: What do you like and what you don't like of SSE online?"
   ]
  },
  {
   "cell_type": "markdown",
   "metadata": {},
   "source": [
    "**A**: I like that I can pause the lecture and go back a couple of minutes if I my thoughts have drifted away. I like that I can rewatch lectures. I like that I can watch lectures at the time that best suits me. I don't like that I can't immediatly ask questions, but this was solved by the forum."
   ]
  },
  {
   "cell_type": "markdown",
   "metadata": {},
   "source": [
    "### Class 7."
   ]
  },
  {
   "cell_type": "markdown",
   "metadata": {},
   "source": [
    "**Q**: Name 2 characteristics of p-modes and 2 of q-modes."
   ]
  },
  {
   "cell_type": "markdown",
   "metadata": {},
   "source": [
    "**A**:\n",
    "\n",
    "P-modes are pressure waves, acoustic, sound waves, p-waves.\n",
    "\n",
    "1. The pressure gradient is the restoring force\n",
    "2. Gas motions primarily horizontal.\n",
    "3. Asymptotic relation with the frequency.\n",
    "\n",
    "G-modes are gravitational waves, g-waves\n",
    "\n",
    "1. The buoyancy is the restoring force.\n",
    "2. Gas motions are primarily vertical.\n",
    "3. Asymptotic relation with the period."
   ]
  },
  {
   "cell_type": "markdown",
   "metadata": {},
   "source": [
    "**Q**: Why is the approximation called adiabatic?"
   ]
  },
  {
   "cell_type": "markdown",
   "metadata": {},
   "source": [
    "**A**: Because $\\tau_\\text{dyn} << \\tau_\\text{KH}$. Changes in the dynamical structure due to changes in HE of the star have a much shorter timescale than the redistribution of internal heat. Therefore we can ignore the heat exchange, and the process can be approximated as adiabatic."
   ]
  },
  {
   "cell_type": "markdown",
   "metadata": {},
   "source": [
    "### Class 8."
   ]
  },
  {
   "cell_type": "markdown",
   "metadata": {},
   "source": [
    "**Q**: Which diagrams are useful to understand the evolution of stars?"
   ]
  },
  {
   "cell_type": "markdown",
   "metadata": {},
   "source": [
    "**A**: During the lifetime of a star there are a lot of fundamental quantities that have a different value during the different phases a star goes through. For example, the luminosity $L$, the efficient temperature $T_\\text{eff}$, the temperature and density of the core, $T_c$ and $\\rho_c$, the adiabatic and radiative gradients, $\\nabla_{ad}$ and $\\nabla_{rad}$ as a function of radius to visualize the areas within a star with different transport mechanism, the density $\\rho$, the pressure $P$.\n",
    "\n",
    "1. The Hertzsprung-Russel diagram. The HR-diagram display the $\\log T_{eff}$ on the horizontal axis (increasing temperature to the left), and the $\\log L$ on the vertical axis.\n",
    "2. A $T_c$ - $\\rho_c$ figure\n",
    "3. $\\nabla_{ad}$ and $\\nabla_{rad}$ vs. $R$ (or another form of distance measure, $m/M$, for example) figure to observe convection.\n",
    "4. A density-pressure figure to observe in which equation of state regime the stars occupies itself. This can also be observed in the $T_c$ - $\\rho_c$ figure\n",
    "5. A $L$ - $M$ for stars in the same point in their lifetime, for different masses and luminosities, to observe the empirical relation between the luminosity $L$ and the mass $M$.\n",
    "6. Various plots with just the time on the horizontal axis and other fundamental quanties such as the the mass, luminosity, or chemical abunduncies of several elements on the vertical axis, just to see the change and evolution over time. Especially nice for the chemical evolution of different kind of stars."
   ]
  },
  {
   "cell_type": "markdown",
   "metadata": {},
   "source": [
    "**Q**: What are the homology relations?"
   ]
  },
  {
   "cell_type": "markdown",
   "metadata": {},
   "source": [
    "**A**: Homology relations are a type of analytical simple scaling relations which can be very insightful for interpretating numerical simulations. The lecture notes give as definition: \"Compare two stellar models, and consider so-called homologous mass shells which have the same relative coordinate, $x = m/M $$\n",
    "\n",
    "$$ x = \\frac{m_1}{M_1} = \\frac{m_2}{M_2} $$\n",
    "\n",
    "Two stellar models are said to be homologous if homologous mass shells within  tehm are located at the same relative radii $r/R$, i.e.\n",
    "\n",
    "$$ \\frac{r_1(x)}{R_1} = \\frac{r_2(x)}{R_2} $$\n",
    "\n",
    "or\n",
    "\n",
    "$$ \\frac{r_1(x)}{r_2(x)} = \\frac{R_1}{R_2} $$\n",
    "\n",
    "They have the same relative mass distribution, and therefore the same relative density distribution.\n",
    "\n",
    "If one stars is known very well, the homology relations can be used to understand another homologous star."
   ]
  },
  {
   "cell_type": "markdown",
   "metadata": {},
   "source": [
    "### Class 9."
   ]
  },
  {
   "cell_type": "markdown",
   "metadata": {},
   "source": [
    "**Q**: What is the Hayashi line?"
   ]
  },
  {
   "cell_type": "markdown",
   "metadata": {},
   "source": [
    "**A**: The Hayashi line is an almost vertical line in the HR-diagram where stars are full convective ($T_{eff}$ is constant). Pre-main sequence stars start their evolution from this line, but the Hayashi line is not exclusive to pre-main sequence stars, it is all for all kinds of stars, as long as they are fully convective. The region to the right of Hayashi line in the HDR is a forbidden region for stars in HE; $T_{eff}$ is lower there. The region to the left cannot be fully temperature and must have some portion of their interior in radiative equilibrium."
   ]
  },
  {
   "cell_type": "markdown",
   "metadata": {},
   "source": [
    "**Q**: Name 3 characteristics of a star that reaches the ZAMS"
   ]
  },
  {
   "cell_type": "markdown",
   "metadata": {},
   "source": [
    "**A**: (1) They are (nearly) homogeneous in structure. (2) They are in complete HE and TE. (3) Nuclear fusion has ignited."
   ]
  },
  {
   "cell_type": "markdown",
   "metadata": {},
   "source": [
    "### Class 10."
   ]
  },
  {
   "cell_type": "markdown",
   "metadata": {},
   "source": [
    "**Q**: What is the Hertzsprung Gap?"
   ]
  },
  {
   "cell_type": "markdown",
   "metadata": {},
   "source": [
    "**A**: The Hertzsprung Gap is the rapid evolution on a thermal timescale across the HDR from the end of the main-sequence to $T_{eff}$ is 5000 K for intermediate stars. The layer right outside the He core starts burning Hydrogen: H-shell burning, happens really quickly. On the HDR, moves from the MS, to the RGB. For low mass stars, this phase is much longer, so there is no gap (or said in another way, the gap is much smaller, the star density in that region of the HDR is much higher)."
   ]
  },
  {
   "cell_type": "markdown",
   "metadata": {},
   "source": [
    "**Q**: What is the Helium Flash?"
   ]
  },
  {
   "cell_type": "markdown",
   "metadata": {},
   "source": [
    "**A**: The Helium flash is a thermonuclear runaway process that occurs in low-mass stars when He-burning is ignited. When HE stars burning, all nuclear energy goes into raising the internal energy, because the the degeneracy pressure is independent of $T$. Eventually, degeneracy is lifted when $T = 3 \\cdot 10^8$ K. After that the gas starts behaving like an ideal gas, so there is expansion and cooling. All of this energy results of the expansion of the core, and none of this energy reached the surface. Further expansion and cooling decreases the energy generation rate and further nuclear burning is stable. The high local luminosity $l$ makes the region where it occurs become convective, therefore the product, 12C, is mixed through the core."
   ]
  },
  {
   "cell_type": "markdown",
   "metadata": {},
   "source": [
    "### Class 11."
   ]
  },
  {
   "cell_type": "markdown",
   "metadata": {},
   "source": [
    "**Q**: Name three characteristics of white dwarfs."
   ]
  },
  {
   "cell_type": "markdown",
   "metadata": {},
   "source": [
    "**A**: Final phase of the low-intermediate mass stars (1) Electron degenerate cores, composed of C and O, ideal gas thin layer outside, and between them a NR-layer. (2) There is no nuclear fusion anymore, they only shine because of left-over thermal energy and they slowly cool down. (3) Isothermal core."
   ]
  },
  {
   "cell_type": "markdown",
   "metadata": {},
   "source": [
    "**Q**: Name three characteristics of the AGB phase."
   ]
  },
  {
   "cell_type": "markdown",
   "metadata": {},
   "source": [
    "**A**: (1) Starts at the exhaustion of Helium in the centre. (2) Has a similar luminosity but somewhat higher effective temperature than the preceding RGB phase. (3) Strong mass-loss, particularly at the last moments of the AGB phase, core is detached from the envelope. (4) Helium-shell flash"
   ]
  },
  {
   "cell_type": "markdown",
   "metadata": {},
   "source": [
    "# Other conceptual questions\n",
    "## Came to my mind when preparing for the exam."
   ]
  },
  {
   "cell_type": "markdown",
   "metadata": {},
   "source": [
    "**Q**: What is electron degeneracy pressure and why is it such an important concept in this class?"
   ]
  },
  {
   "cell_type": "markdown",
   "metadata": {},
   "source": [
    "**A**:"
   ]
  },
  {
   "cell_type": "markdown",
   "metadata": {},
   "source": [
    "**Q**: What is an adiabatic process?"
   ]
  },
  {
   "cell_type": "markdown",
   "metadata": {},
   "source": [
    "**A**:"
   ]
  },
  {
   "cell_type": "markdown",
   "metadata": {},
   "source": [
    "**Q**: What do the adiabatic and radiative gradients describe exactly and why does Ledoux/Schwarzschild criterium describe the condition for radiative transport or convection to occur as internal energy transport mechanism? What is superadiabaticity?"
   ]
  },
  {
   "cell_type": "markdown",
   "metadata": {},
   "source": [
    "**A**:"
   ]
  },
  {
   "cell_type": "markdown",
   "metadata": {},
   "source": [
    "**Q** Why is the luminosity of a fully convective star independent of its structure?"
   ]
  },
  {
   "cell_type": "markdown",
   "metadata": {},
   "source": [
    "**A**:"
   ]
  },
  {
   "cell_type": "markdown",
   "metadata": {},
   "source": [
    "**Q**: Why does contraction of the core mean expansion of the envelope and vice versa?"
   ]
  },
  {
   "cell_type": "markdown",
   "metadata": {},
   "source": [
    "**A**:"
   ]
  },
  {
   "cell_type": "markdown",
   "metadata": {},
   "source": [
    "**Q**: Explain the different between all different kinds of equilibria discussed in the lectures (HE, TE, etc...)"
   ]
  },
  {
   "cell_type": "markdown",
   "metadata": {},
   "source": [
    "**A**:"
   ]
  },
  {
   "cell_type": "markdown",
   "metadata": {},
   "source": [
    "**Q**: Explain all the different timescales discussed in the lectures (KH, nuclear, etc.)"
   ]
  },
  {
   "cell_type": "markdown",
   "metadata": {},
   "source": [
    "**A**:"
   ]
  },
  {
   "cell_type": "markdown",
   "metadata": {},
   "source": [
    "**Q**"
   ]
  },
  {
   "cell_type": "markdown",
   "metadata": {},
   "source": [
    "**A**:"
   ]
  },
  {
   "cell_type": "markdown",
   "metadata": {},
   "source": [
    "**Q**:"
   ]
  },
  {
   "cell_type": "markdown",
   "metadata": {},
   "source": [
    "**A**:"
   ]
  },
  {
   "cell_type": "markdown",
   "metadata": {},
   "source": [
    "**Q**:"
   ]
  },
  {
   "cell_type": "markdown",
   "metadata": {},
   "source": [
    "**A**:"
   ]
  },
  {
   "cell_type": "markdown",
   "metadata": {},
   "source": [
    "**Q**:"
   ]
  },
  {
   "cell_type": "markdown",
   "metadata": {},
   "source": [
    "**A**:"
   ]
  },
  {
   "cell_type": "markdown",
   "metadata": {},
   "source": [
    "**Q**:"
   ]
  },
  {
   "cell_type": "markdown",
   "metadata": {},
   "source": [
    "**A**:"
   ]
  },
  {
   "cell_type": "markdown",
   "metadata": {},
   "source": [
    "**Q**:"
   ]
  },
  {
   "cell_type": "markdown",
   "metadata": {},
   "source": [
    "**A**:"
   ]
  },
  {
   "cell_type": "markdown",
   "metadata": {},
   "source": [
    "**Q**:"
   ]
  },
  {
   "cell_type": "markdown",
   "metadata": {},
   "source": [
    "**A**:"
   ]
  },
  {
   "cell_type": "markdown",
   "metadata": {},
   "source": [
    "**Q**:"
   ]
  },
  {
   "cell_type": "markdown",
   "metadata": {},
   "source": [
    "**A**:"
   ]
  },
  {
   "cell_type": "markdown",
   "metadata": {},
   "source": [
    "**Q**:"
   ]
  },
  {
   "cell_type": "markdown",
   "metadata": {},
   "source": [
    "**A**:"
   ]
  },
  {
   "cell_type": "markdown",
   "metadata": {},
   "source": [
    "**Q**:"
   ]
  },
  {
   "cell_type": "markdown",
   "metadata": {},
   "source": [
    "**A**:"
   ]
  },
  {
   "cell_type": "markdown",
   "metadata": {},
   "source": [
    "**Q**:"
   ]
  },
  {
   "cell_type": "markdown",
   "metadata": {},
   "source": [
    "**A**:"
   ]
  },
  {
   "cell_type": "markdown",
   "metadata": {},
   "source": [
    "**Q**:"
   ]
  },
  {
   "cell_type": "markdown",
   "metadata": {},
   "source": [
    "**A**:"
   ]
  },
  {
   "cell_type": "markdown",
   "metadata": {},
   "source": [
    "**Q**:"
   ]
  },
  {
   "cell_type": "markdown",
   "metadata": {},
   "source": [
    "**A**:"
   ]
  },
  {
   "cell_type": "markdown",
   "metadata": {},
   "source": [
    "**Q**:"
   ]
  },
  {
   "cell_type": "markdown",
   "metadata": {},
   "source": [
    "**A**:"
   ]
  },
  {
   "cell_type": "markdown",
   "metadata": {},
   "source": [
    "**Q**:"
   ]
  },
  {
   "cell_type": "markdown",
   "metadata": {},
   "source": [
    "**A**:"
   ]
  },
  {
   "cell_type": "markdown",
   "metadata": {},
   "source": [
    "**Q**:"
   ]
  },
  {
   "cell_type": "markdown",
   "metadata": {},
   "source": [
    "**A**:"
   ]
  },
  {
   "cell_type": "markdown",
   "metadata": {},
   "source": [
    "**Q**:"
   ]
  },
  {
   "cell_type": "markdown",
   "metadata": {},
   "source": [
    "**A**:"
   ]
  },
  {
   "cell_type": "markdown",
   "metadata": {},
   "source": [
    "**Q**:"
   ]
  },
  {
   "cell_type": "markdown",
   "metadata": {},
   "source": [
    "**A**:"
   ]
  },
  {
   "cell_type": "markdown",
   "metadata": {},
   "source": [
    "**Q**:"
   ]
  },
  {
   "cell_type": "markdown",
   "metadata": {},
   "source": [
    "**A**:"
   ]
  },
  {
   "cell_type": "markdown",
   "metadata": {},
   "source": [
    "**Q**:"
   ]
  },
  {
   "cell_type": "markdown",
   "metadata": {},
   "source": [
    "**A**:"
   ]
  },
  {
   "cell_type": "markdown",
   "metadata": {},
   "source": [
    "**Q**:"
   ]
  },
  {
   "cell_type": "markdown",
   "metadata": {},
   "source": [
    "**A**:"
   ]
  },
  {
   "cell_type": "markdown",
   "metadata": {},
   "source": [
    "**Q**:"
   ]
  },
  {
   "cell_type": "markdown",
   "metadata": {},
   "source": [
    "**A**:"
   ]
  }
 ],
 "metadata": {
  "kernelspec": {
   "display_name": "Python 3",
   "language": "python",
   "name": "python3"
  },
  "language_info": {
   "codemirror_mode": {
    "name": "ipython",
    "version": 3
   },
   "file_extension": ".py",
   "mimetype": "text/x-python",
   "name": "python",
   "nbconvert_exporter": "python",
   "pygments_lexer": "ipython3",
   "version": "3.6.5"
  }
 },
 "nbformat": 4,
 "nbformat_minor": 2
}
