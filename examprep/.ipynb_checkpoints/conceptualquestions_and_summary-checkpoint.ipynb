{
 "cells": [
  {
   "cell_type": "markdown",
   "metadata": {},
   "source": [
    "# Conceptual questions from the classes\n",
    "### Important to understand, unlikely to be on the exam."
   ]
  },
  {
   "cell_type": "markdown",
   "metadata": {},
   "source": [
    "### Class 5."
   ]
  },
  {
   "cell_type": "markdown",
   "metadata": {},
   "source": [
    "**Q**: Why is understanding of nuclear reactions important? Give 2 reasons."
   ]
  },
  {
   "cell_type": "markdown",
   "metadata": {},
   "source": [
    "**A**: (1) Nuclear reactions produce the energy within a star which keeps them in TE and which is why we see them shine. Stars are radiating away energy and to keep them into balance, nuclear reactions produce almost exactly the same amount of energy that is radiating away from the star. They determine for how long the star is able to sustain its liminosity. (2) Nuclear reactions are responsible for the conversion of elements within stars, for example, from H to He, so nuclear reactions make the existence of heavier elements than H happen. From a larger perspective, stars are slowly converting the universe from a state where there were no metals, to a state with less and less H and a higher overall metallicity."
   ]
  },
  {
   "cell_type": "markdown",
   "metadata": {},
   "source": [
    "**Q**: Why is understanding of convection important? Give 2 reasons."
   ]
  },
  {
   "cell_type": "markdown",
   "metadata": {},
   "source": [
    "**A**: (1) Convection allows the star to transport energy from within a star to the surface, for example, at lower temperature, when radiative transport is not able to transport all the energy, because of the low opacity. Convection is a very efficient way of transporting energy. (2) If the core is convective, convection is able to 'mix' the star, in very short timescales (weeks to months), by transporting heavier elements from the core to the surface, we are even able to observe H from high up to the core, so more fuel is present in the core, and the H-burning phase can prolong longer."
   ]
  },
  {
   "cell_type": "markdown",
   "metadata": {},
   "source": [
    "### Class 6."
   ]
  },
  {
   "cell_type": "markdown",
   "metadata": {},
   "source": [
    "**Q**: Why do we need such high temperatures for thermonuclear reactions to happen?"
   ]
  },
  {
   "cell_type": "markdown",
   "metadata": {},
   "source": [
    "**A**: Because of the Coulomb barrier. Two nuclei experience a coulomb potential that scales with the product of their charges and inversely with their distance. Classically, nuclear reactions are not able to happen at temperatures of stellar cores. However, if quantum mechanics is taken into consideration, there is a finite chance  particle breaks the repulsive Coulomb barrier (known as the tunnel effect), which scales steeply with the energy and decreases with the product of the charges. So, at low $T$, only the lightest nuclei will react and heavier nuclei require higher $T$, and therefore higher energies to have a compariable penetration probability."
   ]
  },
  {
   "cell_type": "markdown",
   "metadata": {},
   "source": [
    "**Q**: What do you like and what you don't like of SSE online?"
   ]
  },
  {
   "cell_type": "markdown",
   "metadata": {},
   "source": [
    "**A**: I like that I can pause the lecture and go back a couple of minutes if I my thoughts have drifted away. I like that I can rewatch lectures. I like that I can watch lectures at the time that best suits me. I don't like that I can't immediatly ask questions, but this was solved by the forum."
   ]
  },
  {
   "cell_type": "markdown",
   "metadata": {},
   "source": [
    "### Class 7."
   ]
  },
  {
   "cell_type": "markdown",
   "metadata": {},
   "source": [
    "**Q**: Name 2 characteristics of p-modes and 2 of q-modes."
   ]
  },
  {
   "cell_type": "markdown",
   "metadata": {},
   "source": [
    "**A**:\n",
    "\n",
    "P-modes are pressure waves, acoustic, sound waves, p-waves.\n",
    "\n",
    "1. The pressure gradient is the restoring force\n",
    "2. Gas motions primarily horizontal.\n",
    "3. Asymptotic relation with the frequency.\n",
    "\n",
    "G-modes are gravitational waves, g-waves\n",
    "\n",
    "1. The buoyancy is the restoring force.\n",
    "2. Gas motions are primarily vertical.\n",
    "3. Asymptotic relation with the period."
   ]
  },
  {
   "cell_type": "markdown",
   "metadata": {},
   "source": [
    "**Q**: Why is the approximation called adiabatic?"
   ]
  },
  {
   "cell_type": "markdown",
   "metadata": {},
   "source": [
    "**A**: Because $\\tau_\\text{dyn} << \\tau_\\text{KH}$. Changes in the dynamical structure due to changes in HE of the star have a much shorter timescale than the redistribution of internal heat. Therefore we can ignore the heat exchange, and the process can be approximated as adiabatic."
   ]
  },
  {
   "cell_type": "markdown",
   "metadata": {},
   "source": [
    "### Class 8."
   ]
  },
  {
   "cell_type": "markdown",
   "metadata": {},
   "source": [
    "**Q**: Which diagrams are useful to understand the evolution of stars?"
   ]
  },
  {
   "cell_type": "markdown",
   "metadata": {},
   "source": [
    "**A**: During the lifetime of a star there are a lot of fundamental quantities that have a different value during the different phases a star goes through. For example, the luminosity $L$, the efficient temperature $T_\\text{eff}$, the temperature and density of the core, $T_c$ and $\\rho_c$, the adiabatic and radiative gradients, $\\nabla_{ad}$ and $\\nabla_{rad}$ as a function of radius to visualize the areas within a star with different transport mechanism, the density $\\rho$, the pressure $P$.\n",
    "\n",
    "1. The Hertzsprung-Russel diagram. The HR-diagram display the $\\log T_{eff}$ on the horizontal axis (increasing temperature to the left), and the $\\log L$ on the vertical axis.\n",
    "2. A $T_c$ - $\\rho_c$ figure\n",
    "3. $\\nabla_{ad}$ and $\\nabla_{rad}$ vs. $R$ (or another form of distance measure, $m/M$, for example) figure to observe convection.\n",
    "4. A density-pressure figure to observe in which equation of state regime the stars occupies itself. This can also be observed in the $T_c$ - $\\rho_c$ figure\n",
    "5. A $L$ - $M$ for stars in the same point in their lifetime, for different masses and luminosities, to observe the empirical relation between the luminosity $L$ and the mass $M$.\n",
    "6. Various plots with just the time on the horizontal axis and other fundamental quanties such as the the mass, luminosity, or chemical abunduncies of several elements on the vertical axis, just to see the change and evolution over time. Especially nice for the chemical evolution of different kind of stars."
   ]
  },
  {
   "cell_type": "markdown",
   "metadata": {},
   "source": [
    "**Q**: What are the homology relations?"
   ]
  },
  {
   "cell_type": "markdown",
   "metadata": {},
   "source": [
    "**A**: Homology relations are a type of analytical simple scaling relations which can be very insightful for interpretating numerical simulations. The lecture notes give as definition: \"Compare two stellar models, and consider so-called homologous mass shells which have the same relative coordinate, $x = m/M $$\n",
    "\n",
    "$$ x = \\frac{m_1}{M_1} = \\frac{m_2}{M_2} $$\n",
    "\n",
    "Two stellar models are said to be homologous if homologous mass shells within  tehm are located at the same relative radii $r/R$, i.e.\n",
    "\n",
    "$$ \\frac{r_1(x)}{R_1} = \\frac{r_2(x)}{R_2} $$\n",
    "\n",
    "or\n",
    "\n",
    "$$ \\frac{r_1(x)}{r_2(x)} = \\frac{R_1}{R_2} $$\n",
    "\n",
    "They have the same relative mass distribution, and therefore the same relative density distribution.\n",
    "\n",
    "If one stars is known very well, the homology relations can be used to understand another homologous star."
   ]
  },
  {
   "cell_type": "markdown",
   "metadata": {},
   "source": [
    "### Class 9."
   ]
  },
  {
   "cell_type": "markdown",
   "metadata": {},
   "source": [
    "**Q**: What is the Hayashi line?"
   ]
  },
  {
   "cell_type": "markdown",
   "metadata": {},
   "source": [
    "**A**: The Hayashi line is an almost vertical line in the HR-diagram where stars are full convective ($T_{eff}$ is constant). Pre-main sequence stars start their evolution from this line, but the Hayashi line is not exclusive to pre-main sequence stars, it is all for all kinds of stars, as long as they are fully convective. The region to the right of Hayashi line in the HDR is a forbidden region for stars in HE; $T_{eff}$ is lower there. The region to the left cannot be fully temperature and must have some portion of their interior in radiative equilibrium."
   ]
  },
  {
   "cell_type": "markdown",
   "metadata": {},
   "source": [
    "**Q**: Name 3 characteristics of a star that reaches the ZAMS"
   ]
  },
  {
   "cell_type": "markdown",
   "metadata": {},
   "source": [
    "**A**: (1) They are (nearly) homogeneous in structure. (2) They are in complete HE and TE. (3) Nuclear fusion has ignited."
   ]
  },
  {
   "cell_type": "markdown",
   "metadata": {},
   "source": [
    "### Class 10."
   ]
  },
  {
   "cell_type": "markdown",
   "metadata": {},
   "source": [
    "**Q**: What is the Hertzsprung Gap?"
   ]
  },
  {
   "cell_type": "markdown",
   "metadata": {},
   "source": [
    "**A**: The Hertzsprung Gap is the rapid evolution on a thermal timescale across the HDR from the end of the main-sequence to $T_{eff}$ is 5000 K for intermediate stars. The layer right outside the He core starts burning Hydrogen: H-shell burning, happens really quickly. On the HDR, moves from the MS, to the RGB. For low mass stars, this phase is much longer, so there is no gap (or said in another way, the gap is much smaller, the star density in that region of the HDR is much higher)."
   ]
  },
  {
   "cell_type": "markdown",
   "metadata": {},
   "source": [
    "**Q**: What is the Helium Flash?"
   ]
  },
  {
   "cell_type": "markdown",
   "metadata": {},
   "source": [
    "**A**: The Helium flash is a thermonuclear runaway process that occurs in low-mass stars when He-burning is ignited. When HE stars burning, all nuclear energy goes into raising the internal energy, because the the degeneracy pressure is independent of $T$. Eventually, degeneracy is lifted when $T = 3 \\cdot 10^8$ K. After that the gas starts behaving like an ideal gas, so there is expansion and cooling. All of this energy results of the expansion of the core, and none of this energy reached the surface. Further expansion and cooling decreases the energy generation rate and further nuclear burning is stable. The high local luminosity $l$ makes the region where it occurs become convective, therefore the product, 12C, is mixed through the core."
   ]
  },
  {
   "cell_type": "markdown",
   "metadata": {},
   "source": [
    "### Class 11."
   ]
  },
  {
   "cell_type": "markdown",
   "metadata": {},
   "source": [
    "**Q**: Name three characteristics of white dwarfs."
   ]
  },
  {
   "cell_type": "markdown",
   "metadata": {},
   "source": [
    "**A**: Final phase of the low-intermediate mass stars (1) Electron degenerate cores, composed of C and O, ideal gas thin layer outside, and between them a NR-layer. (2) There is no nuclear fusion anymore, they only shine because of left-over thermal energy and they slowly cool down. (3) Isothermal core."
   ]
  },
  {
   "cell_type": "markdown",
   "metadata": {},
   "source": [
    "**Q**: Name three characteristics of the AGB phase."
   ]
  },
  {
   "cell_type": "markdown",
   "metadata": {},
   "source": [
    "**A**: (1) Starts at the exhaustion of Helium in the centre. (2) Has a similar luminosity but somewhat higher effective temperature than the preceding RGB phase. (3) Strong mass-loss, particularly at the last moments of the AGB phase, core is detached from the envelope. (4) Helium-shell flash"
   ]
  },
  {
   "cell_type": "markdown",
   "metadata": {},
   "source": [
    "# Other conceptual questions\n",
    "## Came to my mind when preparing for the exam."
   ]
  },
  {
   "cell_type": "markdown",
   "metadata": {},
   "source": [
    "**What are the most fundamental properties of a star how can we you know them?**\n",
    "\n",
    "Fundamental properties\n",
    "- The mass $M$\n",
    "- The radius $R$\n",
    "- The luminosity $L$, the rate at which the star radiates energy into space.\n",
    "- The effective temperature $T_\\text{eff}$. The temperature of a black body with the same energy flux at the surface of the star, and is a good measure of the temperature of the photosphere.\n",
    "- The chemical composition $X, Y, Z$ of a star.\n",
    "- The rotation period $P_\\text{rot}$ of the star, or the equatorial rotation $v_\\text{eq}$\n",
    "\n",
    "Measurements\n",
    "- Photometric measurements $\\rightarrow$ apparent brightness $\\rightarrow$ B-V $\\rightarrow$ $f_\\text{bol}$.\n",
    "- Parallax measurements $\\rightarrow$ distance.\n",
    "- Interferometry measurements $\\rightarrow$ angular diameter (if the star is relatively close)\n",
    "- Spectroscope measurements $\\rightarrow$ photospheric properties of the star\n",
    "\n",
    "The most important stellar property, the mass $M$, cannot be measured directly. If the star is in a binary system, it can be computed, otherwise it has to be done in another way."
   ]
  },
  {
   "cell_type": "markdown",
   "metadata": {},
   "source": [
    "**Explain the differences between all the different kinds of equilibria discussed in the lectures.**\n",
    "\n",
    "A star is in HE, hydrostatic equilibrium, when all forces within the star (on a gas element) balance each other out. This means there is no noticeable accelleration.\n",
    "\n",
    "A star is in TE, thermal equilibrium, when energy is radiated away at the surface at the same rate at which it is produced by nuclear reactions in the interior. The star neither expands or contracts and has a constant interior temperature. A star can remain in this state as long as nuclear reactions can supply the necessary energy.\n",
    "\n",
    "Since the core temparture of a star is much higher than the surface temperature, the star cannot be in global TE, but it is in LTE, local thermodynamic equilibrium. Local means at distance much smaller than $R_\\odot$, but significantly larger than te mean free path $l_\\text{ph}$."
   ]
  },
  {
   "cell_type": "markdown",
   "metadata": {},
   "source": [
    "**Explain all the different timescales discussed in the lectures (KH, nuclear, etc.) and compare them with each other to draw conlusions.**\n",
    "\n",
    "The dynamical timescale $\\tau_\\text{dyn}$ is the timescale on which changes happen to the dynamical structure of the star. It can be derived by asking the question: \"What would happen if the state of HE is violated?¨ It is the timescale on which  a star reacts to a perturbation of HE.\n",
    "\n",
    "The thermal or Kelvin-Helmholtz timescale $\\tau_\\text{KH}$ describes how fast changes in the thermal structure of a star can occur. It is the timescale on which  a star reacts to a perturbation of TE, the timescale on which gravitational contraction would occur.\n",
    "\n",
    "The nuclear timescale $\\tau_\\text{nuc}$ determines how long its nuclear fuel supply lasts, and is therefore also the timescale on which composition changes in the stellar interior occurs.\n",
    "\n",
    "- $\\tau_\\text{dyn}$ has a typical of the order of hours or less.\n",
    "- $\\tau_\\text{KH}$ for the sun is approximately $ 1.5 \\cdot 10^7 $ years.\n",
    "- $\\tau_\\text{nuc}$ for the sun is approximately $ 10^{10} $ years.\n",
    "\n",
    "$$ \\tau_\\text{nuc} >> \\tau_\\text{KH} >> \\tau_\\text{dyn} $$\n",
    "\n",
    "As a consequence, the rate of nuclear reactions determines the pace of stellar evolution, and stars may be assumed to be in HE and TE throughout most of their lives."
   ]
  },
  {
   "cell_type": "markdown",
   "metadata": {},
   "source": [
    "**What does the virial thereom tell you?**\n",
    "\n",
    "The virial thereom is an important consequence of HE and establishes a link between the gravitational portential energy and the internal energy of a star in HE. A more tightly bound star must have a higher internal energy, i.e. it must be *hotter*. In other words, a star that contracts quasi-statically must get hotter in the process.\n",
    "\n",
    "Graviationally bound gas spheres must be *hot* to maintain HE: heat provides the pressure required to balance gravity. The more compact, the more bound, the hotter is must be.\n",
    "\n",
    "A hot sphere of gas radiates into surround sapce, therefore a star must lose energy from its surface (the luminosity). Because the star radiates $\\rightarrow$ star contracts $\\rightarrow$ gets hotter $\\rightarrow$ *negative heat capacity*."
   ]
  },
  {
   "cell_type": "markdown",
   "metadata": {},
   "source": [
    "**What does the equation of state tell you?**\n",
    "\n",
    "The EOS describes the microscopic proporties of stellar matter, for given desnity $\\rho$, temperature $T$ and composition $X_i$."
   ]
  },
  {
   "cell_type": "markdown",
   "metadata": {},
   "source": [
    "**What do the equations stellar structure tell you?**\n",
    "\n",
    "The first two equations of stellar structure determine the mechanical structure of the a star in HE. These are two equations for three unknowns of $m$ ($r, P$ and $\\rho$), so they cannot be solved without a third condition. The relation between $P$ and $\\rho$ is usually called the *equation of state*."
   ]
  },
  {
   "cell_type": "markdown",
   "metadata": {},
   "source": [
    "**What is (electron) degeneracy pressure and why is it such an important concept in this class?**\n",
    "\n",
    "Degeneracy pressure is related to the Pauli exclusion principle. This principle states the following: \"Two or more identical fermions cannot occupy the same quantum state in the same quantum system simultaneously.\" Electrons, which are fermions with two spin states, i.e. $g_e = 2$, have therefore a maximum number density allowed by quantum mechanics which depend on the momentum $p$. The limitation imposed by the Pauli exclusion principle means taht electrons can exert a higher pressure than predicted by classical physics; electrons are forced to assume quantum sates iwth higher $p$, because the quantum states with lower $p$ are already occupied. Because of the higher momenta, there is a higher pressure. This is called *degeneracy pressure*. The pressure becomes independent of temperature.\n",
    "\n",
    "As a star contracts, the density may becomes so high that the electrons become degenerate and exert a much higher pressure than they would if they behaved classically. This pressure can hold the star up against gravity, regardless of the temperature. It can remain in this state forever even when it cools down, this is the case in *White dwarfs*. Degeneracy of neutrons becomes important when *neutron stars* are considered."
   ]
  },
  {
   "cell_type": "markdown",
   "metadata": {},
   "source": [
    "**What is an adiabatic process?**\n",
    "\n",
    "A process where there is no heat exchange with the environment."
   ]
  },
  {
   "cell_type": "markdown",
   "metadata": {},
   "source": [
    "**What do the adiabatic and radiative gradients describe exactly and why does Ledoux/Schwarzschild criterium describe the condition for radiative transport or convection to occur as internal energy transport mechanism? What is superadiabaticity?**\n",
    "\n",
    "The adiabatic exponent $\\gamma_{ad}$  measures the response of the pressure to adiabatic compression or expansion, i.e. to a change in the density. The change of pressure when the density changes when there is no heat exhange with the environment.\n",
    "\n",
    "The adiabatic temperature gradient measures the change in temperature when the pressure changes (compression/expansion) under adiabatic circumstances."
   ]
  },
  {
   "cell_type": "markdown",
   "metadata": {},
   "source": [
    "**What is a polytrope?**\n",
    "\n",
    "A polytrope is a type of star which equation of state fulfills the equation $P = K \\rho^\\gamma$, where $K$ and $\\gamma$ are both constants. Additional information: This EoS together with stellar structure equations (1) and (2) give rise to the Lane-Emden equation. The Lane-Emden equation has no general analytical solution except for the cases $n = 0, 1, 5$.\n",
    "\n",
    "$n = 0$ corresponds to a homogeneous gas sphere with constant density $\\rho_c$. $n = 5$ has infinite radius, so it is unphysical. For $n = 1$ the radius is independent of the mass and is uniquely determined by the value $K$. For $n = 3$ the mass is independent of the radius and also uniquely determine by the value $K$. "
   ]
  },
  {
   "cell_type": "markdown",
   "metadata": {},
   "source": [
    "**What does the chandrasekhar mass describe?**\n",
    "\n",
    "The Chandrasekhar mass is an upper limit to the mass of a gas sphere in HE that can be supported by degenerate electrons, and thus to the maximum possible mass for a white dwarf. It can be derived by the polytropic relation for $n = 3$\n",
    "\n",
    "$$ M_\\text{Ch} = 1.46 M_\\odot $$"
   ]
  },
  {
   "cell_type": "markdown",
   "metadata": {},
   "source": [
    "**Define the different type of stars.**\n",
    "\n",
    "- Pre-MS star: There is no H-burning yet\n",
    "- MS star:\n",
    "- Red giant: \n",
    "- Asymptotic giant:\n",
    "\n",
    "White dwarf: Stars that are so compact and dense that their interior pressure is dominated by degenerate electrons. They are typically formed of heliu, carbon or oxygen. They are remnants of stellar cores in which hydrogen has been completely converted into helium and, in most cases, also helium has been fused into carbon and oxygen."
   ]
  },
  {
   "cell_type": "markdown",
   "metadata": {},
   "source": [
    "**Why is the luminosity of a fully convective star independent of its structure?**"
   ]
  },
  {
   "cell_type": "markdown",
   "metadata": {},
   "source": [
    "**Why does contraction of the core mean expansion of the envelope and vice versa?**"
   ]
  }
 ],
 "metadata": {
  "kernelspec": {
   "display_name": "Python 3",
   "language": "python",
   "name": "python3"
  },
  "language_info": {
   "codemirror_mode": {
    "name": "ipython",
    "version": 3
   },
   "file_extension": ".py",
   "mimetype": "text/x-python",
   "name": "python",
   "nbconvert_exporter": "python",
   "pygments_lexer": "ipython3",
   "version": "3.6.5"
  }
 },
 "nbformat": 4,
 "nbformat_minor": 2
}
