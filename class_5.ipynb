{
 "cells": [
  {
   "cell_type": "markdown",
   "metadata": {},
   "source": [
    "# Stellar Structure and Evolution 2020"
   ]
  },
  {
   "cell_type": "markdown",
   "metadata": {},
   "source": [
    "## Practical exercises - class 5"
   ]
  },
  {
   "cell_type": "code",
   "execution_count": 48,
   "metadata": {},
   "outputs": [],
   "source": [
    "import numpy as np\n",
    "import matplotlib.pyplot as plt\n",
    "\n",
    "# Everything in SI-units.\n",
    "G = 6.67408e-11\n",
    "c = 2.99792458e8\n",
    "h = 6.62607004e-34\n",
    "k_b = 1.38064852e-23\n",
    "a = 8 * np.pi**5 * k_b**4 / (15 * h**3 * c**3)\n",
    "m_u = 1.66053904e-27\n",
    "R = k_b / m_u\n",
    "\n",
    "R_sun = 6.96340e8\n",
    "M_sun = 1.989e30\n",
    "L_sun = 3.828e26\n",
    "T_eff_sun = 5.778e3\n",
    "\n",
    "def density_cgs2SI(x):\n",
    "    return x * 10**3\n",
    "\n",
    "def opacity_cgs2SI(x):\n",
    "    return x * 10**-1"
   ]
  },
  {
   "cell_type": "markdown",
   "metadata": {},
   "source": [
    "# 1. Conceptual questions"
   ]
  },
  {
   "cell_type": "markdown",
   "metadata": {},
   "source": [
    "(a) Why does convection lead to a net heat flux upwards, even though there is no net mass flux (upwards and downwards bubbles carry equal amounts of mass)?"
   ]
  },
  {
   "cell_type": "markdown",
   "metadata": {},
   "source": [
    "**Answer**: Convection arises when the temperature gradient has reached a certain value. The temperature at the top is lower than at the bottom, so the bubbles rise. When the bubbles have a pressure equal to their surrounding they disappear. This process transports energy/heat from deeper to upper zones, hence the heat flux."
   ]
  },
  {
   "cell_type": "markdown",
   "metadata": {},
   "source": [
    "(b) Explain the Schwarzschild criterion in simple physical terms (using Archimedes law) by drawing a schematic picture. Consider both cases $\\nabla_\\text{rad} > \\nabla_\\text{ad}$ and $\\nabla_\\text{rad} < \\nabla_\\text{ad}$. Which case leads to convection and why? "
   ]
  },
  {
   "cell_type": "markdown",
   "metadata": {},
   "source": [
    "**Answer**:T"
   ]
  },
  {
   "cell_type": "markdown",
   "metadata": {},
   "source": [
    "(c) What is meant by the superadiabaticity of a convective region? How is it related to the convective energy flux (qualitatively)? Why is it very small in the interior of a star, but can be large near the surface? "
   ]
  },
  {
   "cell_type": "markdown",
   "metadata": {},
   "source": [
    "**Answer**:"
   ]
  },
  {
   "cell_type": "markdown",
   "metadata": {},
   "source": [
    "(d) Low-mass stars, like the Sun, have convective envelopes. The fraction of the mass that is convective increases with decreasing mass. A 0.1 M star is completely convective. Can you qualitatively explain why? "
   ]
  },
  {
   "cell_type": "markdown",
   "metadata": {},
   "source": [
    "**Answer**:"
   ]
  },
  {
   "cell_type": "markdown",
   "metadata": {},
   "source": [
    "(e) Explain which are the simplifications "
   ]
  },
  {
   "cell_type": "markdown",
   "metadata": {},
   "source": [
    "**Answer**:"
   ]
  },
  {
   "cell_type": "markdown",
   "metadata": {},
   "source": [
    "# 2. Convection in stars"
   ]
  },
  {
   "cell_type": "markdown",
   "metadata": {},
   "source": [
    "(a) Determine if the energy transport is convective or radiative at two different locations ($ r = 0.242\n",
    "R_\\text{sun} $ and $ r = 0.67 R_\\text{sun}$) in a $ 5 M_\\text{sun} $ main sequence star. Use data of a $5M_\\text{sun}$ model in the table below. You may neglect the radiation pressure and assume that the mean molecular weight is $0.7$."
   ]
  },
  {
   "cell_type": "markdown",
   "metadata": {},
   "source": [
    "![](figs/5_1.png)"
   ]
  },
  {
   "cell_type": "code",
   "execution_count": 49,
   "metadata": {},
   "outputs": [],
   "source": [
    "# Variables\n",
    "M = 5 * M_sun\n",
    "mu = 0.7\n",
    "\n",
    "r1 = 0.242 * R_sun\n",
    "r2 = 0.670 * R_sun\n",
    "\n",
    "m1 = 0.199 * M_sun\n",
    "m2 = 2.487 * M_sun\n",
    "\n",
    "l1 = 3.40e2 * L_sun\n",
    "l2 = 5.28e2 * L_sun\n",
    "\n",
    "T1 = 2.52e7\n",
    "T2 = 1.45e7\n",
    "\n",
    "rho1 = density_cgs2SI(18.77)\n",
    "rho2 = density_cgs2SI(6.91)\n",
    "\n",
    "kappa1 = opacity_cgs2SI(0.435)\n",
    "kappa2 = opacity_cgs2SI(0.585)\n",
    "\n",
    "# Values because of ideal gas.\n",
    "gamma_ad = 5/3\n",
    "chi_T = 1\n",
    "chi_rho = 1\n",
    "beta = 1"
   ]
  },
  {
   "cell_type": "code",
   "execution_count": 50,
   "metadata": {},
   "outputs": [],
   "source": [
    "def pres(T,mu,rho): # Ideal gas.\n",
    "    return 1 / mu * rho / m_u * k_b * T\n",
    "\n",
    "def grad_rad(P,T,kappa,l,m):\n",
    "    return 3 / (16 * np.pi * a * c * G) * P / T**4 * kappa * l / m\n",
    "\n",
    "def grad_ad(gamma_ad,chi_rho,chi_T):\n",
    "    return (gamma_ad - chi_rho) / (gamma_ad * chi_T)"
   ]
  },
  {
   "cell_type": "code",
   "execution_count": 51,
   "metadata": {},
   "outputs": [
    {
     "name": "stdout",
     "output_type": "stream",
     "text": [
      "Adiabatic gradient: 0.4\n",
      "Situation 1: radiative gradient: 0.7856692225867342\n",
      "Situation 2: radiative gradient: 0.2537172741224181\n",
      "Situation 1: Convection occurs: True\n",
      "Situation 2: Convection occurs: False\n"
     ]
    }
   ],
   "source": [
    "P1 = pres(T1,mu,rho1)\n",
    "P2 = pres(T2,mu,rho2)\n",
    "\n",
    "grad_rad1 = grad_rad(P1,T1,kappa1,l1,m1)\n",
    "grad_rad2 = grad_rad(P2,T2,kappa2,l2,m2)\n",
    "\n",
    "grad_ad_val = grad_ad(gamma_ad,chi_rho,chi_T)\n",
    "\n",
    "print(f'Adiabatic gradient: {grad_ad_val}')\n",
    "print(f'Situation 1: radiative gradient: {grad_rad1}')\n",
    "print(f'Situation 2: radiative gradient: {grad_rad2}')\n",
    "\n",
    "print(f'Situation 1: Convection occurs: {grad_rad1 > grad_ad_val}')\n",
    "print(f'Situation 2: Convection occurs: {grad_rad2 > grad_ad_val}')"
   ]
  },
  {
   "cell_type": "markdown",
   "metadata": {},
   "source": [
    "**Answer**:"
   ]
  },
  {
   "cell_type": "markdown",
   "metadata": {},
   "source": [
    "(b) Estimate the velocity of convective cells inside the Sun. Explain the assumptions made to reach the value. "
   ]
  },
  {
   "cell_type": "code",
   "execution_count": 52,
   "metadata": {},
   "outputs": [
    {
     "ename": "SyntaxError",
     "evalue": "unexpected EOF while parsing (<ipython-input-52-1d47b052a13a>, line 4)",
     "output_type": "error",
     "traceback": [
      "\u001b[0;36m  File \u001b[0;32m\"<ipython-input-52-1d47b052a13a>\"\u001b[0;36m, line \u001b[0;32m4\u001b[0m\n\u001b[0;31m    \u001b[0m\n\u001b[0m    ^\u001b[0m\n\u001b[0;31mSyntaxError\u001b[0m\u001b[0;31m:\u001b[0m unexpected EOF while parsing\n"
     ]
    }
   ],
   "source": [
    "H_p = P\n",
    "\n",
    "def vel_convec():\n",
    "    "
   ]
  },
  {
   "cell_type": "markdown",
   "metadata": {},
   "source": [
    "**Answer**:"
   ]
  },
  {
   "cell_type": "markdown",
   "metadata": {},
   "source": [
    "(c) Using the value obtained in (b), calculate the timescale on which a region of radial size d = qR is mixed (the timescale will be found in terms with q). "
   ]
  },
  {
   "cell_type": "markdown",
   "metadata": {},
   "source": [
    "**Answer**:"
   ]
  },
  {
   "cell_type": "markdown",
   "metadata": {},
   "source": [
    "# 3. Nuclear reactions"
   ]
  },
  {
   "cell_type": "markdown",
   "metadata": {},
   "source": [
    "(a) The net result of hydrogen burning can be written as: \n",
    "\n",
    "$$ 4\\text{H} --> \\text{He} + 2e^\\text{+} + 2\\nu $$\n",
    "\n",
    "Estimate the percentage of the initial mass that is transformed into energy in that reaction. Calculate the energy in eV obtained from hydrogen burning. Explain every step taken in the calculation."
   ]
  },
  {
   "cell_type": "markdown",
   "metadata": {},
   "source": [
    "**Answer**:"
   ]
  },
  {
   "cell_type": "markdown",
   "metadata": {},
   "source": [
    "(b) Using the result of (a), estimate the total time in years that the Sun will spend in the MS (assume that the Sun is made of pure H). Explain every step and assumption made in the calculation"
   ]
  },
  {
   "cell_type": "markdown",
   "metadata": {},
   "source": [
    "**Answer**:"
   ]
  }
 ],
 "metadata": {
  "kernelspec": {
   "display_name": "Python 3",
   "language": "python",
   "name": "python3"
  },
  "language_info": {
   "codemirror_mode": {
    "name": "ipython",
    "version": 3
   },
   "file_extension": ".py",
   "mimetype": "text/x-python",
   "name": "python",
   "nbconvert_exporter": "python",
   "pygments_lexer": "ipython3",
   "version": "3.6.5"
  }
 },
 "nbformat": 4,
 "nbformat_minor": 2
}
